{
 "cells": [
  {
   "cell_type": "markdown",
   "metadata": {},
   "source": [
    "# Flights Data Exploration Challenge\n",
    "\n",
    "In this challenge, you'll explore a real-world dataset containing flights data from the US Department of Transportation.\n",
    "\n",
    "Let's start by loading and viewing the data."
   ]
  },
  {
   "cell_type": "code",
   "execution_count": null,
   "metadata": {},
   "outputs": [],
   "source": [
    "#: Cargar los Datos\n",
    "import pandas as pd\n",
    "import numpy as np\n",
    "import matplotlib.pyplot as plt\n",
    "import seaborn as sns\n",
    "\n",
    "\n",
    "df_flights = pd.read_csv('flights.csv')\n",
    "df_flights.head()\n"
   ]
  },
  {
   "cell_type": "markdown",
   "metadata": {},
   "source": [
    "The dataset contains observations of US domestic flights in 2013, and consists of the following fields:\n",
    "\n",
    "- **Year**: The year of the flight (all records are from 2013)\n",
    "- **Month**: The month of the flight\n",
    "- **DayofMonth**: The day of the month on which the flight departed\n",
    "- **DayOfWeek**: The day of the week on which the flight departed - from 1 (Monday) to 7 (Sunday)\n",
    "- **Carrier**: The two-letter abbreviation for the airline.\n",
    "- **OriginAirportID**: A unique numeric identifier for the departure aiport\n",
    "- **OriginAirportName**: The full name of the departure airport\n",
    "- **OriginCity**: The departure airport city\n",
    "- **OriginState**: The departure airport state\n",
    "- **DestAirportID**: A unique numeric identifier for the destination aiport\n",
    "- **DestAirportName**: The full name of the destination airport\n",
    "- **DestCity**: The destination airport city\n",
    "- **DestState**: The destination airport state\n",
    "- **CRSDepTime**: The scheduled departure time\n",
    "- **DepDelay**: The number of minutes departure was delayed (flight that left ahead of schedule have a negative value)\n",
    "- **DelDelay15**: A binary indicator that departure was delayed by more than 15 minutes (and therefore considered \"late\")\n",
    "- **CRSArrTime**: The scheduled arrival time\n",
    "- **ArrDelay**: The number of minutes arrival was delayed (flight that arrived ahead of schedule have a negative value)\n",
    "- **ArrDelay15**: A binary indicator that arrival was delayed by more than 15 minutes (and therefore considered \"late\")\n",
    "- **Cancelled**: A binary indicator that the flight was cancelled\n",
    "\n",
    "Your challenge is to explore the flight data to analyze possible factors that affect delays in departure or arrival of a flight.\n",
    "\n",
    "1. Start by cleaning the data.\n",
    "    R - Identify any null or missing data, and impute appropriate replacement values.\n",
    "    R - Identify and eliminate any outliers in the **DepDelay** and **ArrDelay** columns.\n",
    "2. Explore the cleaned data.\n",
    "    R - View summary statistics for the numeric fields in the dataset.\n",
    "    R - Determine the distribution of the **DepDelay** and **ArrDelay** columns.\n",
    "    - Use statistics, aggregate functions, and visualizations to answer the following questions:\n",
    "        R - *What are the average (mean) departure and arrival delays?*\n",
    "        R - *How do the carriers compare in terms of arrival delay performance?*\n",
    "        R - *Is there a noticable difference in arrival delays for different days of the week?*\n",
    "        R - *Which departure airport has the highest average departure delay?*\n",
    "        * - *Do **late** departures tend to result in longer arrival delays than on-time departures?*\n",
    "        * - *Which route (from origin airport to destination airport) has the most **late** arrivals?*\n",
    "        R - *Which route has the highest average arrival delay?*\n",
    "        \n",
    "Add markdown and code cells as required to create your solution.\n"
   ]
  },
  {
   "cell_type": "markdown",
   "metadata": {},
   "source": [
    "# 1. Limpieza de Datos"
   ]
  },
  {
   "cell_type": "markdown",
   "metadata": {},
   "source": [
    "#### 1.1  Cualquier dato nulo o faltante y reemplázalo con valores adecuados."
   ]
  },
  {
   "cell_type": "code",
   "execution_count": null,
   "metadata": {},
   "outputs": [],
   "source": [
    "# Identificar datos nulos\n",
    "null_data = df_flights.isnull().sum()\n",
    "print(null_data)\n",
    "\n",
    "# Reemplazar valores nulos con el promedio (puedes ajustar el método de reemplazo según los campos)\n",
    "df_flights_clean = df_flights.fillna(df_flights.mean())\n"
   ]
  },
  {
   "cell_type": "markdown",
   "metadata": {},
   "source": [
    "#### 1.2 Identifica y elimina cualquier valor atípico en las columnas DepDelay y ArrDelay."
   ]
  },
  {
   "cell_type": "code",
   "execution_count": null,
   "metadata": {},
   "outputs": [],
   "source": [
    "# Identificar y eliminar outliers en DepDelay y ArrDelay usando el rango intercuartílico (IQR)\n",
    "Q1_dep = df_flights_clean['DepDelay'].quantile(0.25)\n",
    "Q3_dep = df_flights_clean['DepDelay'].quantile(0.75)\n",
    "IQR_dep = Q3_dep - Q1_dep\n",
    "\n",
    "Q1_arr = df_flights_clean['ArrDelay'].quantile(0.25)\n",
    "Q3_arr = df_flights_clean['ArrDelay'].quantile(0.75)\n",
    "IQR_arr = Q3_arr - Q1_arr\n",
    "\n",
    "# Filtrar datos eliminando los valores atípicos\n",
    "df_flights_clean = df_flights_clean[~((df_flights_clean['DepDelay'] < (Q1_dep - 1.5 * IQR_dep)) | (df_flights_clean['DepDelay'] > (Q3_dep + 1.5 * IQR_dep)))]\n",
    "df_flights_clean = df_flights_clean[~((df_flights_clean['ArrDelay'] < (Q1_arr - 1.5 * IQR_arr)) | (df_flights_clean['ArrDelay'] > (Q3_arr + 1.5 * IQR_arr)))]\n"
   ]
  },
  {
   "cell_type": "markdown",
   "metadata": {},
   "source": [
    "# 2. Explora los datos limpios:"
   ]
  },
  {
   "cell_type": "markdown",
   "metadata": {},
   "source": [
    "#### 2.1 Visualiza estadísticas descriptivas para los campos numéricos del conjunto de datos."
   ]
  },
  {
   "cell_type": "code",
   "execution_count": null,
   "metadata": {},
   "outputs": [],
   "source": [
    "# Estadísticas descriptivas\n",
    "print(df_flights_clean.describe())\n"
   ]
  },
  {
   "cell_type": "markdown",
   "metadata": {},
   "source": [
    "#### 2.2 Determina la distribución de las columnas DepDelay y ArrDelay."
   ]
  },
  {
   "cell_type": "code",
   "execution_count": null,
   "metadata": {},
   "outputs": [],
   "source": [
    "# Histograma para DepDelay\n",
    "plt.figure(figsize=(10, 5))\n",
    "sns.histplot(df_flights_clean['DepDelay'], bins=50, kde=True, color='blue')\n",
    "plt.title('Distribución de Retrasos en la Salida (DepDelay)')\n",
    "plt.xlabel('Retraso en Minutos')\n",
    "plt.ylabel('Frecuencia')\n",
    "plt.show()\n",
    "\n",
    "# Histograma para ArrDelay\n",
    "plt.figure(figsize=(10, 5))\n",
    "sns.histplot(df_flights_clean['ArrDelay'], bins=50, kde=True, color='green')\n",
    "plt.title('Distribución de Retrasos en la Llegada (ArrDelay)')\n",
    "plt.xlabel('Retraso en Minutos')\n",
    "plt.ylabel('Frecuencia')\n",
    "plt.show()\n",
    "\n",
    "# Boxplot para DepDelay\n",
    "plt.figure(figsize=(8, 4))\n",
    "sns.boxplot(x=df_flights_clean['DepDelay'], color='blue')\n",
    "plt.title('Boxplot de Retrasos en la Salida (DepDelay)')\n",
    "plt.show()\n",
    "\n",
    "# Boxplot para ArrDelay\n",
    "plt.figure(figsize=(8, 4))\n",
    "sns.boxplot(x=df_flights_clean['ArrDelay'], color='green')\n",
    "plt.title('Boxplot de Retrasos en la Llegada (ArrDelay)')\n",
    "plt.show()\n"
   ]
  },
  {
   "cell_type": "markdown",
   "metadata": {},
   "source": [
    "# 3 Usa estadísticas, funciones de agregación y visualizaciones para responder a las siguientes preguntas"
   ]
  },
  {
   "cell_type": "markdown",
   "metadata": {},
   "source": [
    "#### 3.1 ¿Cuáles son los retrasos promedio (media) de salida y llegada?"
   ]
  },
  {
   "cell_type": "code",
   "execution_count": null,
   "metadata": {},
   "outputs": [],
   "source": [
    "# Media de retrasos\n",
    "mean_dep_delay = df_flights_clean['DepDelay'].mean()\n",
    "mean_arr_delay = df_flights_clean['ArrDelay'].mean()\n",
    "\n",
    "print(f\"Retraso promedio de salida: {mean_dep_delay:.2f} minutos\")\n",
    "print(f\"Retraso promedio de llegada: {mean_arr_delay:.2f} minutos\")\n"
   ]
  },
  {
   "cell_type": "markdown",
   "metadata": {},
   "source": [
    "#### 3.2 ¿Cómo se comparan las aerolíneas en cuanto a rendimiento de retraso en la llegada?"
   ]
  },
  {
   "cell_type": "code",
   "execution_count": null,
   "metadata": {},
   "outputs": [],
   "source": [
    "# Comparación de aerolíneas por retraso en la llegada\n",
    "carrier_arr_delay = df_flights_clean.groupby('Carrier')['ArrDelay'].mean().sort_values()\n",
    "\n",
    "# Visualización\n",
    "plt.figure(figsize=(10, 6))\n",
    "sns.barplot(x=carrier_arr_delay.index, y=carrier_arr_delay.values, palette='viridis')\n",
    "plt.title('Retraso Promedio de Llegada por Aerolínea')\n",
    "plt.xlabel('Aerolínea')\n",
    "plt.ylabel('Retraso Promedio en Minutos')\n",
    "plt.show()\n"
   ]
  },
  {
   "cell_type": "markdown",
   "metadata": {},
   "source": [
    "#### 3.3 ¿Hay una diferencia notable en los retrasos de llegada según el día de la semana?"
   ]
  },
  {
   "cell_type": "code",
   "execution_count": null,
   "metadata": {},
   "outputs": [],
   "source": [
    "# Retraso en la llegada según el día de la semana\n",
    "weekday_arr_delay = df_flights_clean.groupby('DayOfWeek')['ArrDelay'].mean()\n",
    "\n",
    "# Visualización\n",
    "plt.figure(figsize=(10, 6))\n",
    "sns.barplot(x=weekday_arr_delay.index, y=weekday_arr_delay.values, palette='coolwarm')\n",
    "plt.title('Retraso Promedio de Llegada por Día de la Semana')\n",
    "plt.xlabel('Día de la Semana (1= Lunes, 7= Domingo)')\n",
    "plt.ylabel('Retraso Promedio en Minutos')\n",
    "plt.show()\n"
   ]
  },
  {
   "cell_type": "markdown",
   "metadata": {},
   "source": [
    "#### 3.4 ¿Qué aeropuerto de salida tiene el mayor retraso promedio de salida?"
   ]
  },
  {
   "cell_type": "code",
   "execution_count": null,
   "metadata": {},
   "outputs": [],
   "source": [
    "# Retraso promedio de salida por aeropuerto\n",
    "origin_dep_delay = df_flights_clean.groupby('OriginAirportName')['DepDelay'].mean().sort_values(ascending=False)\n",
    "\n",
    "# Mostrar el aeropuerto con mayor retraso\n",
    "print(f\"El aeropuerto de salida con mayor retraso promedio es {origin_dep_delay.index[0]} con un retraso promedio de {origin_dep_delay.values[0]:.2f} minutos\")\n"
   ]
  },
  {
   "cell_type": "markdown",
   "metadata": {},
   "source": [
    "#### 3.5 ¿Las salidas tardías tienden a provocar mayores retrasos en la llegada que las salidas a tiempo?"
   ]
  },
  {
   "cell_type": "code",
   "execution_count": null,
   "metadata": {},
   "outputs": [],
   "source": [
    "# Comparación entre vuelos que salieron a tiempo y vuelos que salieron tarde\n",
    "on_time = df_flights_clean[df_flights_clean['DepDelay'] <= 0]['ArrDelay'].mean()\n",
    "late_departures = df_flights_clean[df_flights_clean['DepDelay'] > 0]['ArrDelay'].mean()\n",
    "\n",
    "print(f\"Retraso promedio de llegada para vuelos a tiempo: {on_time:.2f} minutos\")\n",
    "print(f\"Retraso promedio de llegada para vuelos con salida tardía: {late_departures:.2f} minutos\")\n"
   ]
  },
  {
   "cell_type": "markdown",
   "metadata": {},
   "source": [
    "#### 3.6 ¿Qué ruta (del aeropuerto de origen al aeropuerto de destino) tiene la mayor cantidad de llegadas tarde?"
   ]
  },
  {
   "cell_type": "code",
   "execution_count": null,
   "metadata": {},
   "outputs": [],
   "source": [
    "# Rutas con mayor número de llegadas tarde\n",
    "routes_late_arrivals = df_flights_clean[df_flights_clean['ArrDelay15'] == 1].groupby(['OriginAirportName', 'DestAirportName']).size().sort_values(ascending=False)\n",
    "\n",
    "# Mostrar la ruta con mayor número de llegadas tarde\n",
    "print(f\"La ruta con más llegadas tarde es de {routes_late_arrivals.index[0][0]} a {routes_late_arrivals.index[0][1]} con {routes_late_arrivals.values[0]} llegadas tarde\")\n"
   ]
  },
  {
   "cell_type": "markdown",
   "metadata": {},
   "source": [
    "#### 3.7 ¿Qué ruta tiene el mayor retraso promedio de llegada?"
   ]
  },
  {
   "cell_type": "code",
   "execution_count": null,
   "metadata": {},
   "outputs": [],
   "source": [
    "# Rutas con mayor retraso promedio en la llegada\n",
    "routes_avg_arr_delay = df_flights_clean.groupby(['OriginAirportName', 'DestAirportName'])['ArrDelay'].mean().sort_values(ascending=False)\n",
    "\n",
    "# Mostrar la ruta con mayor retraso promedio de llegada\n",
    "print(f\"La ruta con mayor retraso promedio de llegada es de {routes_avg_arr_delay.index[0][0]} a {routes_avg_arr_delay.index[0][1]} con un retraso promedio de {routes_avg_arr_delay.values[0]:.2f} minutos\")\n"
   ]
  },
  {
   "cell_type": "code",
   "execution_count": null,
   "metadata": {},
   "outputs": [],
   "source": []
  }
 ],
 "metadata": {
  "kernelspec": {
   "display_name": "Python 3 (ipykernel)",
   "language": "python",
   "name": "python3"
  },
  "language_info": {
   "codemirror_mode": {
    "name": "ipython",
    "version": 3
   },
   "file_extension": ".py",
   "mimetype": "text/x-python",
   "name": "python",
   "nbconvert_exporter": "python",
   "pygments_lexer": "ipython3",
   "version": "3.12.2"
  }
 },
 "nbformat": 4,
 "nbformat_minor": 4
}
